{
 "cells": [
  {
   "cell_type": "code",
   "execution_count": 1,
   "metadata": {},
   "outputs": [],
   "source": [
    "import numpy as np \n",
    "\n",
    "a=np.load('../../../new_data_augmented/stance/Aumento_1-run_0.15_app1_Top1.npy', allow_pickle=True)"
   ]
  },
  {
   "cell_type": "code",
   "execution_count": 3,
   "metadata": {},
   "outputs": [
    {
     "data": {
      "text/plain": [
       "array([list(['user', 'user', 'user', 'thank', 'you', 'for', 'that', 't', '##wee', '##t', '!', '!', 'many', '##o', 'appreciate', '##o']),\n",
       "       list(['user', 'user', 'it', \"'\", 's', 'not', 'a', 'matter', 'of', 'discussion', ',', 'it', \"'\", 're', 'insulting', 'and', 'dem', '##ean', '##ing', 'and', 'offensive']),\n",
       "       list(['user', 'how', 'is', 'robbery', 'robbed', 'by', 'state', 'day', '?', 'where', 'am', 'the', 'reports', 'from', 'the', 'shooting', '?', 'why', 'no', 'ambulance', '?', 'hash', '##tag', 'hash', '##tag']),\n",
       "       ...,\n",
       "       list(['if', 'we', 'shot', 'everyone', 'in', 'the', 'stole', 'for', 'stealing', ',', 'imagine', 'the', 'carnage', 'on', 'wall', 'st', '.', 'hash', '##tag', 'hash', '##tag']),\n",
       "       list(['banks', '##y', 'gets', 'it', 'right', '.', '“', 'user', ':', 'hash', '##tag', \"'\", 'comedic', 'have', 'on', 'hash', '##tag', '.', 'hash', '##tag', 'hash', '##tag', 'html']),\n",
       "       list(['user', 'user', 'don', '’', 'divert', 'they', 'mean', '“', 'siege', 'muslim', '\"', '?'])],\n",
       "      dtype=object)"
      ]
     },
     "execution_count": 3,
     "metadata": {},
     "output_type": "execute_result"
    }
   ],
   "source": [
    "a[:,1]"
   ]
  },
  {
   "cell_type": "code",
   "execution_count": 4,
   "metadata": {},
   "outputs": [],
   "source": [
    "listas=[]\n",
    "arreglos=[]\n",
    "for e in a[:,1]:\n",
    "    if type(e)==list:\n",
    "        listas.append(e)\n",
    "    else:\n",
    "        arreglos.append(e)"
   ]
  },
  {
   "cell_type": "code",
   "execution_count": 5,
   "metadata": {},
   "outputs": [
    {
     "data": {
      "text/plain": [
       "6698"
      ]
     },
     "execution_count": 5,
     "metadata": {},
     "output_type": "execute_result"
    }
   ],
   "source": [
    "len(listas)"
   ]
  },
  {
   "cell_type": "code",
   "execution_count": 6,
   "metadata": {},
   "outputs": [
    {
     "data": {
      "text/plain": [
       "4238"
      ]
     },
     "execution_count": 6,
     "metadata": {},
     "output_type": "execute_result"
    }
   ],
   "source": [
    "len(arreglos)"
   ]
  },
  {
   "cell_type": "code",
   "execution_count": 8,
   "metadata": {},
   "outputs": [
    {
     "data": {
      "text/plain": [
       "['user',\n",
       " 'user',\n",
       " 'user',\n",
       " 'thank',\n",
       " 'you',\n",
       " 'for',\n",
       " 'that',\n",
       " 't',\n",
       " '##wee',\n",
       " '##t',\n",
       " '!',\n",
       " '!',\n",
       " 'many',\n",
       " '##o',\n",
       " 'appreciate',\n",
       " '##o']"
      ]
     },
     "execution_count": 8,
     "metadata": {},
     "output_type": "execute_result"
    }
   ],
   "source": [
    "listas[0]"
   ]
  },
  {
   "cell_type": "code",
   "execution_count": 9,
   "metadata": {},
   "outputs": [
    {
     "data": {
      "text/plain": [
       "array(['user', 'user', 'took', 'me', 'number', 'sec', 'to', 'google',\n",
       "       'isis', 'flag', 'and', 'see', 'this', 'wasn', \"'\", 't', 'it', '.',\n",
       "       'your', 'research', 'budget', 'that', 'bad', '?'], dtype='<U8')"
      ]
     },
     "execution_count": 9,
     "metadata": {},
     "output_type": "execute_result"
    }
   ],
   "source": [
    "arreglos[0]"
   ]
  },
  {
   "cell_type": "code",
   "execution_count": 10,
   "metadata": {},
   "outputs": [
    {
     "name": "stderr",
     "output_type": "stream",
     "text": [
      "Using TensorFlow backend.\n"
     ]
    },
    {
     "name": "stdout",
     "output_type": "stream",
     "text": [
      "There are 1 GPU(s) available.\n",
      "We will use the GPU: GeForce GTX 1060 6GB\n"
     ]
    }
   ],
   "source": [
    "from models import *\n",
    "import time\n",
    "import re, io, nltk, torch \n",
    "from nltk.corpus import stopwords\n",
    "from numpy import linalg as LA\n",
    "from numpy.linalg import norm\n",
    "from sklearn.preprocessing import normalize\n",
    "from sklearn.model_selection import train_test_split\n",
    "from tqdm import tqdm, trange\n",
    "from sklearn.utils.class_weight import compute_class_weight\n",
    "from gensim import utils, matutils  \n",
    "from gensim.corpora.dictionary import Dictionary\n",
    "from six import string_types, integer_types\n",
    "from six.moves import zip, range\n",
    "from numpy import linalg as LA\n",
    "from sklearn.preprocessing import Normalizer\n",
    "from scipy import stats\n",
    "from gensim.utils import deprecated\n",
    "from numpy import dot, float32 as REAL, memmap as np_memmap, \\\n",
    "    double, array, zeros, vstack, sqrt, newaxis, integer, \\\n",
    "    ndarray, sum as np_sum, prod, argmax\n",
    "from collections import Counter\n",
    "from scipy.spatial import distance\n",
    "from numpy.random import binomial\n",
    "from scipy.stats import bernoulli\n",
    "import numpy as np\n",
    "\n",
    "import transformers\n",
    "from transformers import (\n",
    "    WEIGHTS_NAME,\n",
    "    AdamW,\n",
    "    BertConfig,\n",
    "    BertForMaskedLM,\n",
    "    BertForSequenceClassification,\n",
    "    BertTokenizer,\n",
    "    CamembertConfig,\n",
    "    CamembertForMaskedLM,\n",
    "    CamembertTokenizer,\n",
    "    DistilBertConfig,\n",
    "    DistilBertForMaskedLM,\n",
    "    DistilBertTokenizer,\n",
    "    GPT2Config,\n",
    "    GPT2LMHeadModel,\n",
    "    GPT2Tokenizer,\n",
    "    OpenAIGPTConfig,\n",
    "    OpenAIGPTLMHeadModel,\n",
    "    OpenAIGPTTokenizer,\n",
    "    RobertaConfig,\n",
    "    RobertaForMaskedLM,\n",
    "    RobertaTokenizer,\n",
    "    get_linear_schedule_with_warmup,\n",
    ")\n",
    "\n",
    "n_gpu = torch.cuda.device_count()\n",
    "torch.cuda.get_device_name(0)\n",
    "\n",
    "if torch.cuda.is_available():     \n",
    "    device = torch.device(\"cuda\")\n",
    "    print('There are',torch.cuda.device_count(),'GPU(s) available.')\n",
    "    print('We will use the GPU:', torch.cuda.get_device_name(0))\n",
    "\n",
    "else:\n",
    "    print('No GPU available, using the CPU instead.')\n",
    "    device = torch.device(\"cpu\")\n",
    "\n",
    "from keras.preprocessing.sequence import pad_sequences\n",
    "import matplotlib.pyplot as plt\n",
    "\n",
    "\n",
    "tokenizer_loaded = BertTokenizer.from_pretrained('bert-base-uncased')\n",
    "model_loaded = BertForSequenceClassification.from_pretrained('bert-base-uncased', num_labels=4)#'bert-base-uncased',  num_labels=4) \n"
   ]
  },
  {
   "cell_type": "code",
   "execution_count": 12,
   "metadata": {},
   "outputs": [
    {
     "data": {
      "text/plain": [
       "array(['user', 'user', 'took', 'me', 'number', 'sec', 'to', 'google',\n",
       "       'isis', 'flag', 'and', 'see', 'this', 'wasn', \"'\", 't', 'it', '.',\n",
       "       'your', 'research', 'budget', 'that', 'bad', '?'], dtype='<U8')"
      ]
     },
     "execution_count": 12,
     "metadata": {},
     "output_type": "execute_result"
    }
   ],
   "source": [
    "arreglos[0]"
   ]
  },
  {
   "cell_type": "code",
   "execution_count": 13,
   "metadata": {},
   "outputs": [
    {
     "data": {
      "text/plain": [
       "['user',\n",
       " 'user',\n",
       " 'took',\n",
       " 'me',\n",
       " 'number',\n",
       " 'sec',\n",
       " 'to',\n",
       " 'google',\n",
       " 'isis',\n",
       " 'flag',\n",
       " 'and',\n",
       " 'see',\n",
       " 'this',\n",
       " 'wasn',\n",
       " \"'\",\n",
       " 't',\n",
       " 'it',\n",
       " '.',\n",
       " 'your',\n",
       " 'research',\n",
       " 'budget',\n",
       " 'that',\n",
       " 'bad',\n",
       " '?']"
      ]
     },
     "execution_count": 13,
     "metadata": {},
     "output_type": "execute_result"
    }
   ],
   "source": [
    "tokenizer_loaded.tokenize(\"user user took me number sec to google isis flag and see this wasn ' t it . your research budget that bad ?\")"
   ]
  },
  {
   "cell_type": "code",
   "execution_count": null,
   "metadata": {},
   "outputs": [],
   "source": []
  }
 ],
 "metadata": {
  "kernelspec": {
   "display_name": "Python [conda env:newpy3_tf1]",
   "language": "python",
   "name": "conda-env-newpy3_tf1-py"
  },
  "language_info": {
   "codemirror_mode": {
    "name": "ipython",
    "version": 3
   },
   "file_extension": ".py",
   "mimetype": "text/x-python",
   "name": "python",
   "nbconvert_exporter": "python",
   "pygments_lexer": "ipython3",
   "version": "3.6.10"
  }
 },
 "nbformat": 4,
 "nbformat_minor": 2
}
